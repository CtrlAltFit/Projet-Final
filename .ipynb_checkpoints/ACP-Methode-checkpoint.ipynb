{
 "cells": [
  {
   "cell_type": "code",
   "execution_count": 1,
   "id": "4366dae1",
   "metadata": {},
   "outputs": [],
   "source": [
    "import numpy as np\n",
    "from sklearn.feature_extraction.text import TfidfVectorizer\n",
    "from sklearn.decomposition import PCA\n",
    "from sklearn.cluster import KMeans\n",
    "from sklearn.metrics import adjusted_rand_score , normalized_mutual_info_score\n",
    "from nltk.corpus import stopwords\n",
    "from sklearn.datasets import fetch_20newsgroups"
   ]
  },
  {
   "cell_type": "code",
   "execution_count": 2,
   "id": "1fe6fa4d",
   "metadata": {},
   "outputs": [
    {
     "name": "stdout",
     "output_type": "stream",
     "text": [
      "Adjusted Rand Index: 0.059522186481681644\n",
      "Normalized Mutual Information: 0.28109560296315783\n"
     ]
    }
   ],
   "source": [
    "# Charger le dataset NG20\n",
    "ng20 = fetch_20newsgroups(subset='all', remove=('headers', 'footers', 'quotes'))\n",
    "corpus = ng20.data[:2000]\n",
    "\n",
    "# Prétraitement des données textuelles\n",
    "stop_words = set(stopwords.words('english'))\n",
    "\n",
    "vectorizer = TfidfVectorizer(stop_words='english')  \n",
    "\n",
    "# Utiliser 'english' au lieu de stop_words\n",
    "X = vectorizer.fit_transform(corpus)\n",
    "\n",
    "# Réduction de la dimension avec ACP\n",
    "pca = PCA(n_components=20)\n",
    "X_pca = pca.fit_transform(X.toarray())\n",
    "\n",
    "# Clustering avec k-means sur les données réduites\n",
    "k = 20  # Vous pouvez ajuster le nombre de clusters selon vos besoins\n",
    "kmeans = KMeans(n_clusters=k, random_state=42)\n",
    "labels = kmeans.fit_predict(X_pca)\n",
    "\n",
    "# Évaluation du clustering (indice de Rand ajusté)\n",
    "ground_truth_labels = ng20.target[:2000]\n",
    "ari = adjusted_rand_score(ground_truth_labels, labels)\n",
    "nmi = normalized_mutual_info_score(ground_truth_labels, labels)\n",
    "print(f\"Adjusted Rand Index: {ari}\")\n",
    "print(f\"Normalized Mutual Information: {nmi}\")"
   ]
  },
  {
   "cell_type": "code",
   "execution_count": null,
   "id": "53cef82d",
   "metadata": {},
   "outputs": [],
   "source": []
  }
 ],
 "metadata": {
  "kernelspec": {
   "display_name": "Python 3 (ipykernel)",
   "language": "python",
   "name": "python3"
  },
  "language_info": {
   "codemirror_mode": {
    "name": "ipython",
    "version": 3
   },
   "file_extension": ".py",
   "mimetype": "text/x-python",
   "name": "python",
   "nbconvert_exporter": "python",
   "pygments_lexer": "ipython3",
   "version": "3.9.12"
  }
 },
 "nbformat": 4,
 "nbformat_minor": 5
}
